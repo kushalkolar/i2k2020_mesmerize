{
 "cells": [
  {
   "cell_type": "code",
   "execution_count": 21,
   "metadata": {},
   "outputs": [],
   "source": [
    "from mesmerize import Transmission\n",
    "import pandas as pd\n",
    "import os\n",
    "from pprint import pprint\n",
    "import pickle\n",
    "from mesmerize.viewer.modules.caiman_dfof import get_CNMF_obj"
   ]
  },
  {
   "cell_type": "code",
   "execution_count": 2,
   "metadata": {},
   "outputs": [],
   "source": [
    "proj_path = '/home/kushal/i2k2020_data/project_test/'\n",
    "root_df = pd.read_hdf(os.path.join(proj_path, 'dataframes', 'root.dfr'), mode='r')"
   ]
  },
  {
   "cell_type": "code",
   "execution_count": 3,
   "metadata": {},
   "outputs": [
    {
     "name": "stderr",
     "output_type": "stream",
     "text": [
      "0it [00:00, ?it/s]\n",
      "0it [00:00, ?it/s]/176 [00:00<?, ?it/s]\u001b[A\n",
      "100%|██████████| 176/176 [00:00<00:00, 2131.31it/s]\n",
      "100%|██████████| 176/176 [00:00<00:00, 283268.42it/s]\n",
      "100%|██████████| 176/176 [00:00<00:00, 264019.14it/s]\n",
      "100%|██████████| 176/176 [00:00<00:00, 305166.39it/s]"
     ]
    },
    {
     "name": "stdout",
     "output_type": "stream",
     "text": [
      "Collecting image metadata\n",
      "Collecting curve data\n",
      "Collecting curve data\n",
      "Collecting dfof data\n"
     ]
    },
    {
     "name": "stderr",
     "output_type": "stream",
     "text": [
      "\n"
     ]
    }
   ],
   "source": [
    "t = Transmission.from_proj(proj_path, root_df)"
   ]
  },
  {
   "cell_type": "code",
   "execution_count": 4,
   "metadata": {},
   "outputs": [
    {
     "data": {
      "text/html": [
       "<div>\n",
       "<style scoped>\n",
       "    .dataframe tbody tr th:only-of-type {\n",
       "        vertical-align: middle;\n",
       "    }\n",
       "\n",
       "    .dataframe tbody tr th {\n",
       "        vertical-align: top;\n",
       "    }\n",
       "\n",
       "    .dataframe thead th {\n",
       "        text-align: right;\n",
       "    }\n",
       "</style>\n",
       "<table border=\"1\" class=\"dataframe\">\n",
       "  <thead>\n",
       "    <tr style=\"text-align: right;\">\n",
       "      <th></th>\n",
       "      <th>AnimalID</th>\n",
       "      <th>ImgInfoPath</th>\n",
       "      <th>ImgPath</th>\n",
       "      <th>ImgUUID</th>\n",
       "      <th>ROI_State</th>\n",
       "      <th>SampleID</th>\n",
       "      <th>behavior</th>\n",
       "      <th>cell_type</th>\n",
       "      <th>comments</th>\n",
       "      <th>date</th>\n",
       "      <th>...</th>\n",
       "      <th>ori</th>\n",
       "      <th>sf</th>\n",
       "      <th>tf</th>\n",
       "      <th>uuid_curve</th>\n",
       "      <th>meta</th>\n",
       "      <th>stim_maps</th>\n",
       "      <th>_RAW_CURVE</th>\n",
       "      <th>_SPIKES</th>\n",
       "      <th>_DFOF</th>\n",
       "      <th>_BLOCK_</th>\n",
       "    </tr>\n",
       "  </thead>\n",
       "  <tbody>\n",
       "    <tr>\n",
       "      <th>0</th>\n",
       "      <td>Recording2</td>\n",
       "      <td>images/Recording2-_-1-_-cd07fcc5-aaaa-4f4c-b09...</td>\n",
       "      <td>images/Recording2-_-1-_-cd07fcc5-aaaa-4f4c-b09...</td>\n",
       "      <td>cd07fcc5-aaaa-4f4c-b09a-b232ce1efaeb</td>\n",
       "      <td>{'roi_xs': [318, 317, 317, 316, 316, 315, 315,...</td>\n",
       "      <td>Recording2-_-1</td>\n",
       "      <td>[L, T, S, A, O, R, Z, nothing]</td>\n",
       "      <td>untagged</td>\n",
       "      <td>untagged</td>\n",
       "      <td>20201123_172345</td>\n",
       "      <td>...</td>\n",
       "      <td>[untagged]</td>\n",
       "      <td>[untagged]</td>\n",
       "      <td>[untagged]</td>\n",
       "      <td>f8124d09-564d-4061-9b5e-c8c6d6b3502f</td>\n",
       "      <td>{'origin': '1p_dataset', 'fps': 10.0, 'date': ...</td>\n",
       "      <td>[[{'behavior':     name   start     end       ...</td>\n",
       "      <td>[-42.79523227547633, -32.38922172858821, -33.5...</td>\n",
       "      <td>[0.0, 10.833019, 0.0, 9.205397, 5.722494, 0.0,...</td>\n",
       "      <td>None</td>\n",
       "      <td>8b28d3d6-f88c-433d-ac48-cdd383d7bdcd</td>\n",
       "    </tr>\n",
       "    <tr>\n",
       "      <th>1</th>\n",
       "      <td>Recording2</td>\n",
       "      <td>images/Recording2-_-1-_-cd07fcc5-aaaa-4f4c-b09...</td>\n",
       "      <td>images/Recording2-_-1-_-cd07fcc5-aaaa-4f4c-b09...</td>\n",
       "      <td>cd07fcc5-aaaa-4f4c-b09a-b232ce1efaeb</td>\n",
       "      <td>{'roi_xs': [414, 413, 413, 413, 412, 411, 410,...</td>\n",
       "      <td>Recording2-_-1</td>\n",
       "      <td>[L, T, S, A, O, R, Z, nothing]</td>\n",
       "      <td>untagged</td>\n",
       "      <td>untagged</td>\n",
       "      <td>20201123_172345</td>\n",
       "      <td>...</td>\n",
       "      <td>[untagged]</td>\n",
       "      <td>[untagged]</td>\n",
       "      <td>[untagged]</td>\n",
       "      <td>110d7ba8-a36b-4f6e-ab44-e65f91eb469f</td>\n",
       "      <td>{'origin': '1p_dataset', 'fps': 10.0, 'date': ...</td>\n",
       "      <td>[[{'behavior':     name   start     end       ...</td>\n",
       "      <td>[-55.58782857857168, -56.757740069353744, -57....</td>\n",
       "      <td>[0.0, 0.0, 0.0, 0.0, 0.0, 0.0, 0.0, 20.688303,...</td>\n",
       "      <td>None</td>\n",
       "      <td>8b28d3d6-f88c-433d-ac48-cdd383d7bdcd</td>\n",
       "    </tr>\n",
       "    <tr>\n",
       "      <th>2</th>\n",
       "      <td>Recording2</td>\n",
       "      <td>images/Recording2-_-1-_-cd07fcc5-aaaa-4f4c-b09...</td>\n",
       "      <td>images/Recording2-_-1-_-cd07fcc5-aaaa-4f4c-b09...</td>\n",
       "      <td>cd07fcc5-aaaa-4f4c-b09a-b232ce1efaeb</td>\n",
       "      <td>{'roi_xs': [199, 198, 198, 198, 197, 197, 197,...</td>\n",
       "      <td>Recording2-_-1</td>\n",
       "      <td>[L, T, S, A, O, R, Z, nothing]</td>\n",
       "      <td>untagged</td>\n",
       "      <td>untagged</td>\n",
       "      <td>20201123_172345</td>\n",
       "      <td>...</td>\n",
       "      <td>[untagged]</td>\n",
       "      <td>[untagged]</td>\n",
       "      <td>[untagged]</td>\n",
       "      <td>c332cdee-8945-4c6b-934e-7950e0d3320f</td>\n",
       "      <td>{'origin': '1p_dataset', 'fps': 10.0, 'date': ...</td>\n",
       "      <td>[[{'behavior':     name   start     end       ...</td>\n",
       "      <td>[53.09938705121697, 58.23409786074209, 53.6944...</td>\n",
       "      <td>[0.0, 9.443916, 0.0, 7.364174, 6.461563, 11.05...</td>\n",
       "      <td>None</td>\n",
       "      <td>8b28d3d6-f88c-433d-ac48-cdd383d7bdcd</td>\n",
       "    </tr>\n",
       "    <tr>\n",
       "      <th>3</th>\n",
       "      <td>Recording2</td>\n",
       "      <td>images/Recording2-_-1-_-cd07fcc5-aaaa-4f4c-b09...</td>\n",
       "      <td>images/Recording2-_-1-_-cd07fcc5-aaaa-4f4c-b09...</td>\n",
       "      <td>cd07fcc5-aaaa-4f4c-b09a-b232ce1efaeb</td>\n",
       "      <td>{'roi_xs': [481, 480, 480, 480, 480, 480, 479,...</td>\n",
       "      <td>Recording2-_-1</td>\n",
       "      <td>[L, T, S, A, O, R, Z, nothing]</td>\n",
       "      <td>untagged</td>\n",
       "      <td>untagged</td>\n",
       "      <td>20201123_172345</td>\n",
       "      <td>...</td>\n",
       "      <td>[untagged]</td>\n",
       "      <td>[untagged]</td>\n",
       "      <td>[untagged]</td>\n",
       "      <td>b90805c8-1419-4881-80f7-6ad912cee80d</td>\n",
       "      <td>{'origin': '1p_dataset', 'fps': 10.0, 'date': ...</td>\n",
       "      <td>[[{'behavior':     name   start     end       ...</td>\n",
       "      <td>[4.381232825497609, 4.381232825497609, 4.38123...</td>\n",
       "      <td>[0.0, 0.0, 0.0, 0.0, 0.0, 0.0, 0.0, 0.0, 0.0, ...</td>\n",
       "      <td>None</td>\n",
       "      <td>8b28d3d6-f88c-433d-ac48-cdd383d7bdcd</td>\n",
       "    </tr>\n",
       "    <tr>\n",
       "      <th>4</th>\n",
       "      <td>Recording2</td>\n",
       "      <td>images/Recording2-_-1-_-cd07fcc5-aaaa-4f4c-b09...</td>\n",
       "      <td>images/Recording2-_-1-_-cd07fcc5-aaaa-4f4c-b09...</td>\n",
       "      <td>cd07fcc5-aaaa-4f4c-b09a-b232ce1efaeb</td>\n",
       "      <td>{'roi_xs': [476, 475, 474, 474, 474, 473, 472,...</td>\n",
       "      <td>Recording2-_-1</td>\n",
       "      <td>[L, T, S, A, O, R, Z, nothing]</td>\n",
       "      <td>untagged</td>\n",
       "      <td>untagged</td>\n",
       "      <td>20201123_172345</td>\n",
       "      <td>...</td>\n",
       "      <td>[untagged]</td>\n",
       "      <td>[untagged]</td>\n",
       "      <td>[untagged]</td>\n",
       "      <td>79293a08-ed5c-442a-a858-7d15a604f51b</td>\n",
       "      <td>{'origin': '1p_dataset', 'fps': 10.0, 'date': ...</td>\n",
       "      <td>[[{'behavior':     name   start     end       ...</td>\n",
       "      <td>[2.162865114258458, 2.162865114258458, 2.16286...</td>\n",
       "      <td>[0.0, 0.0, 0.0, 0.0, 0.0, 0.0, 0.0, 0.0, 0.0, ...</td>\n",
       "      <td>None</td>\n",
       "      <td>8b28d3d6-f88c-433d-ac48-cdd383d7bdcd</td>\n",
       "    </tr>\n",
       "  </tbody>\n",
       "</table>\n",
       "<p>5 rows × 22 columns</p>\n",
       "</div>"
      ],
      "text/plain": [
       "     AnimalID                                        ImgInfoPath  \\\n",
       "0  Recording2  images/Recording2-_-1-_-cd07fcc5-aaaa-4f4c-b09...   \n",
       "1  Recording2  images/Recording2-_-1-_-cd07fcc5-aaaa-4f4c-b09...   \n",
       "2  Recording2  images/Recording2-_-1-_-cd07fcc5-aaaa-4f4c-b09...   \n",
       "3  Recording2  images/Recording2-_-1-_-cd07fcc5-aaaa-4f4c-b09...   \n",
       "4  Recording2  images/Recording2-_-1-_-cd07fcc5-aaaa-4f4c-b09...   \n",
       "\n",
       "                                             ImgPath  \\\n",
       "0  images/Recording2-_-1-_-cd07fcc5-aaaa-4f4c-b09...   \n",
       "1  images/Recording2-_-1-_-cd07fcc5-aaaa-4f4c-b09...   \n",
       "2  images/Recording2-_-1-_-cd07fcc5-aaaa-4f4c-b09...   \n",
       "3  images/Recording2-_-1-_-cd07fcc5-aaaa-4f4c-b09...   \n",
       "4  images/Recording2-_-1-_-cd07fcc5-aaaa-4f4c-b09...   \n",
       "\n",
       "                                ImgUUID  \\\n",
       "0  cd07fcc5-aaaa-4f4c-b09a-b232ce1efaeb   \n",
       "1  cd07fcc5-aaaa-4f4c-b09a-b232ce1efaeb   \n",
       "2  cd07fcc5-aaaa-4f4c-b09a-b232ce1efaeb   \n",
       "3  cd07fcc5-aaaa-4f4c-b09a-b232ce1efaeb   \n",
       "4  cd07fcc5-aaaa-4f4c-b09a-b232ce1efaeb   \n",
       "\n",
       "                                           ROI_State        SampleID  \\\n",
       "0  {'roi_xs': [318, 317, 317, 316, 316, 315, 315,...  Recording2-_-1   \n",
       "1  {'roi_xs': [414, 413, 413, 413, 412, 411, 410,...  Recording2-_-1   \n",
       "2  {'roi_xs': [199, 198, 198, 198, 197, 197, 197,...  Recording2-_-1   \n",
       "3  {'roi_xs': [481, 480, 480, 480, 480, 480, 479,...  Recording2-_-1   \n",
       "4  {'roi_xs': [476, 475, 474, 474, 474, 473, 472,...  Recording2-_-1   \n",
       "\n",
       "                         behavior cell_type  comments             date  ...  \\\n",
       "0  [L, T, S, A, O, R, Z, nothing]  untagged  untagged  20201123_172345  ...   \n",
       "1  [L, T, S, A, O, R, Z, nothing]  untagged  untagged  20201123_172345  ...   \n",
       "2  [L, T, S, A, O, R, Z, nothing]  untagged  untagged  20201123_172345  ...   \n",
       "3  [L, T, S, A, O, R, Z, nothing]  untagged  untagged  20201123_172345  ...   \n",
       "4  [L, T, S, A, O, R, Z, nothing]  untagged  untagged  20201123_172345  ...   \n",
       "\n",
       "          ori          sf          tf                            uuid_curve  \\\n",
       "0  [untagged]  [untagged]  [untagged]  f8124d09-564d-4061-9b5e-c8c6d6b3502f   \n",
       "1  [untagged]  [untagged]  [untagged]  110d7ba8-a36b-4f6e-ab44-e65f91eb469f   \n",
       "2  [untagged]  [untagged]  [untagged]  c332cdee-8945-4c6b-934e-7950e0d3320f   \n",
       "3  [untagged]  [untagged]  [untagged]  b90805c8-1419-4881-80f7-6ad912cee80d   \n",
       "4  [untagged]  [untagged]  [untagged]  79293a08-ed5c-442a-a858-7d15a604f51b   \n",
       "\n",
       "                                                meta  \\\n",
       "0  {'origin': '1p_dataset', 'fps': 10.0, 'date': ...   \n",
       "1  {'origin': '1p_dataset', 'fps': 10.0, 'date': ...   \n",
       "2  {'origin': '1p_dataset', 'fps': 10.0, 'date': ...   \n",
       "3  {'origin': '1p_dataset', 'fps': 10.0, 'date': ...   \n",
       "4  {'origin': '1p_dataset', 'fps': 10.0, 'date': ...   \n",
       "\n",
       "                                           stim_maps  \\\n",
       "0  [[{'behavior':     name   start     end       ...   \n",
       "1  [[{'behavior':     name   start     end       ...   \n",
       "2  [[{'behavior':     name   start     end       ...   \n",
       "3  [[{'behavior':     name   start     end       ...   \n",
       "4  [[{'behavior':     name   start     end       ...   \n",
       "\n",
       "                                          _RAW_CURVE  \\\n",
       "0  [-42.79523227547633, -32.38922172858821, -33.5...   \n",
       "1  [-55.58782857857168, -56.757740069353744, -57....   \n",
       "2  [53.09938705121697, 58.23409786074209, 53.6944...   \n",
       "3  [4.381232825497609, 4.381232825497609, 4.38123...   \n",
       "4  [2.162865114258458, 2.162865114258458, 2.16286...   \n",
       "\n",
       "                                             _SPIKES _DFOF  \\\n",
       "0  [0.0, 10.833019, 0.0, 9.205397, 5.722494, 0.0,...  None   \n",
       "1  [0.0, 0.0, 0.0, 0.0, 0.0, 0.0, 0.0, 20.688303,...  None   \n",
       "2  [0.0, 9.443916, 0.0, 7.364174, 6.461563, 11.05...  None   \n",
       "3  [0.0, 0.0, 0.0, 0.0, 0.0, 0.0, 0.0, 0.0, 0.0, ...  None   \n",
       "4  [0.0, 0.0, 0.0, 0.0, 0.0, 0.0, 0.0, 0.0, 0.0, ...  None   \n",
       "\n",
       "                                _BLOCK_  \n",
       "0  8b28d3d6-f88c-433d-ac48-cdd383d7bdcd  \n",
       "1  8b28d3d6-f88c-433d-ac48-cdd383d7bdcd  \n",
       "2  8b28d3d6-f88c-433d-ac48-cdd383d7bdcd  \n",
       "3  8b28d3d6-f88c-433d-ac48-cdd383d7bdcd  \n",
       "4  8b28d3d6-f88c-433d-ac48-cdd383d7bdcd  \n",
       "\n",
       "[5 rows x 22 columns]"
      ]
     },
     "execution_count": 4,
     "metadata": {},
     "output_type": "execute_result"
    }
   ],
   "source": [
    "t.df.head()"
   ]
  },
  {
   "cell_type": "code",
   "execution_count": 6,
   "metadata": {},
   "outputs": [
    {
     "data": {
      "text/plain": [
       "array(['Recording2-_-1', 'animal1-_-1', 'animal1-_-t1',\n",
       "       'new_animal-_-bah'], dtype=object)"
      ]
     },
     "execution_count": 6,
     "metadata": {},
     "output_type": "execute_result"
    }
   ],
   "source": [
    "t.df.SampleID.unique()"
   ]
  },
  {
   "cell_type": "code",
   "execution_count": 9,
   "metadata": {},
   "outputs": [
    {
     "data": {
      "text/plain": [
       "AnimalID                                              Recording2\n",
       "ImgInfoPath    images/Recording2-_-1-_-cd07fcc5-aaaa-4f4c-b09...\n",
       "ImgPath        images/Recording2-_-1-_-cd07fcc5-aaaa-4f4c-b09...\n",
       "ImgUUID                     cd07fcc5-aaaa-4f4c-b09a-b232ce1efaeb\n",
       "ROI_State      {'roi_xs': [318, 317, 317, 316, 316, 315, 315,...\n",
       "SampleID                                          Recording2-_-1\n",
       "behavior                          [L, T, S, A, O, R, Z, nothing]\n",
       "cell_type                                               untagged\n",
       "comments                                                untagged\n",
       "date                                             20201123_172345\n",
       "genotype                                                     bah\n",
       "misc                                                          {}\n",
       "ori                                                   [untagged]\n",
       "sf                                                    [untagged]\n",
       "tf                                                    [untagged]\n",
       "uuid_curve                  f8124d09-564d-4061-9b5e-c8c6d6b3502f\n",
       "meta           {'origin': '1p_dataset', 'fps': 10.0, 'date': ...\n",
       "stim_maps      [[{'behavior':     name   start     end       ...\n",
       "_RAW_CURVE     [-42.79523227547633, -32.38922172858821, -33.5...\n",
       "_SPIKES        [0.0, 10.833019, 0.0, 9.205397, 5.722494, 0.0,...\n",
       "_DFOF                                                       None\n",
       "_BLOCK_                     8b28d3d6-f88c-433d-ac48-cdd383d7bdcd\n",
       "Name: 0, dtype: object"
      ]
     },
     "execution_count": 9,
     "metadata": {},
     "output_type": "execute_result"
    }
   ],
   "source": [
    "t.df.iloc[0]"
   ]
  },
  {
   "cell_type": "code",
   "execution_count": 10,
   "metadata": {},
   "outputs": [
    {
     "data": {
      "text/plain": [
       "'images/Recording2-_-1-_-cd07fcc5-aaaa-4f4c-b09a-b232ce1efaeb.pik'"
      ]
     },
     "execution_count": 10,
     "metadata": {},
     "output_type": "execute_result"
    }
   ],
   "source": [
    "imginfopath = t.df.iloc[0]['ImgInfoPath']\n",
    "imginfopath"
   ]
  },
  {
   "cell_type": "code",
   "execution_count": 11,
   "metadata": {},
   "outputs": [],
   "source": [
    "p = pickle.load(open(os.path.join(proj_path, imginfopath), 'rb'))"
   ]
  },
  {
   "cell_type": "code",
   "execution_count": 12,
   "metadata": {},
   "outputs": [
    {
     "data": {
      "text/plain": [
       "dict_keys(['sample_id', 'meta', 'stim_maps', 'comments', 'history_trace', 'additional_data', 'roi_states', 'UUID'])"
      ]
     },
     "execution_count": 12,
     "metadata": {},
     "output_type": "execute_result"
    }
   ],
   "source": [
    "p.keys()"
   ]
  },
  {
   "cell_type": "code",
   "execution_count": 19,
   "metadata": {},
   "outputs": [],
   "source": [
    "caiman_dict = p['roi_states']['cnmf_data_dict']"
   ]
  },
  {
   "cell_type": "code",
   "execution_count": 22,
   "metadata": {},
   "outputs": [],
   "source": [
    "cnmf_obj = get_CNMF_obj(caiman_dict)"
   ]
  },
  {
   "cell_type": "code",
   "execution_count": 23,
   "metadata": {},
   "outputs": [
    {
     "data": {
      "text/plain": [
       "<caiman.source_extraction.cnmf.cnmf.CNMF at 0x7f28d50caa90>"
      ]
     },
     "execution_count": 23,
     "metadata": {},
     "output_type": "execute_result"
    }
   ],
   "source": [
    "cnmf_obj"
   ]
  },
  {
   "cell_type": "code",
   "execution_count": 25,
   "metadata": {},
   "outputs": [
    {
     "data": {
      "text/plain": [
       "<caiman.source_extraction.cnmf.estimates.Estimates at 0x7f28d50ca9b0>"
      ]
     },
     "execution_count": 25,
     "metadata": {},
     "output_type": "execute_result"
    }
   ],
   "source": [
    "cnmf_obj.estimates"
   ]
  },
  {
   "cell_type": "code",
   "execution_count": 26,
   "metadata": {},
   "outputs": [
    {
     "data": {
      "text/plain": [
       "array([[  0.46850874,  -0.69277103,  -1.71329141, ...,  17.13931921,\n",
       "         24.73778641,  20.6348142 ],\n",
       "       [ 27.32979131,  43.25167042,  62.69833185, ...,  12.4566342 ,\n",
       "          8.72512795,   5.42362962],\n",
       "       [  4.38123283,   4.38123283,   4.38123283, ...,   4.38123283,\n",
       "          4.38123283,   4.38123283],\n",
       "       ...,\n",
       "       [-10.74207361, -10.74207361, -10.74207361, ...,  -1.91124337,\n",
       "         -2.5230588 ,  -3.09248674],\n",
       "       [  4.53334551,  15.47182089,  54.22146153, ...,  18.55333446,\n",
       "         15.29757692,  12.39869292],\n",
       "       [-57.62029443, -57.88312843, -58.12898923, ...,   9.1826634 ,\n",
       "          4.60584281,   0.32459642]])"
      ]
     },
     "execution_count": 26,
     "metadata": {},
     "output_type": "execute_result"
    }
   ],
   "source": [
    "cnmf_obj.estimates.C"
   ]
  },
  {
   "cell_type": "code",
   "execution_count": null,
   "metadata": {},
   "outputs": [],
   "source": []
  }
 ],
 "metadata": {
  "kernelspec": {
   "display_name": "Python 3",
   "language": "python",
   "name": "python3"
  },
  "language_info": {
   "codemirror_mode": {
    "name": "ipython",
    "version": 3
   },
   "file_extension": ".py",
   "mimetype": "text/x-python",
   "name": "python",
   "nbconvert_exporter": "python",
   "pygments_lexer": "ipython3",
   "version": "3.6.12"
  }
 },
 "nbformat": 4,
 "nbformat_minor": 4
}
