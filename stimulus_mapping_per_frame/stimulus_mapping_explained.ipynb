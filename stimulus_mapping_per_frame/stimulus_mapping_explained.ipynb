{
 "cells": [
  {
   "cell_type": "code",
   "execution_count": 1,
   "metadata": {},
   "outputs": [
    {
     "name": "stderr",
     "output_type": "stream",
     "text": [
      "/home/kushal/python-venvs/mesmerize/lib/python3.6/site-packages/sklearn/utils/deprecation.py:143: FutureWarning: The sklearn.cluster.k_means_ module is  deprecated in version 0.22 and will be removed in version 0.24. The corresponding classes / functions should instead be imported from sklearn.cluster. Anything that cannot be imported from sklearn.cluster is now part of the private API.\n",
      "  warnings.warn(message, FutureWarning)\n"
     ]
    }
   ],
   "source": [
    "import pandas as pd\n",
    "from mesmerize.plotting.utils import get_colormap"
   ]
  },
  {
   "cell_type": "code",
   "execution_count": 2,
   "metadata": {},
   "outputs": [],
   "source": [
    "df = pd.read_csv('./Behavior2.csv')"
   ]
  },
  {
   "cell_type": "markdown",
   "metadata": {},
   "source": [
    "**Behavior is marked for each timepoint, we need to convert this into a \"chunked\" representation where each row has a ``start``, and ``end`` frame number for each behavior**"
   ]
  },
  {
   "cell_type": "code",
   "execution_count": 3,
   "metadata": {},
   "outputs": [
    {
     "data": {
      "text/html": [
       "<div>\n",
       "<style scoped>\n",
       "    .dataframe tbody tr th:only-of-type {\n",
       "        vertical-align: middle;\n",
       "    }\n",
       "\n",
       "    .dataframe tbody tr th {\n",
       "        vertical-align: top;\n",
       "    }\n",
       "\n",
       "    .dataframe thead th {\n",
       "        text-align: right;\n",
       "    }\n",
       "</style>\n",
       "<table border=\"1\" class=\"dataframe\">\n",
       "  <thead>\n",
       "    <tr style=\"text-align: right;\">\n",
       "      <th></th>\n",
       "      <th>Time</th>\n",
       "      <th>Behavior</th>\n",
       "    </tr>\n",
       "  </thead>\n",
       "  <tbody>\n",
       "    <tr>\n",
       "      <th>0</th>\n",
       "      <td>1.63</td>\n",
       "      <td>L</td>\n",
       "    </tr>\n",
       "    <tr>\n",
       "      <th>1</th>\n",
       "      <td>1.65</td>\n",
       "      <td>L</td>\n",
       "    </tr>\n",
       "    <tr>\n",
       "      <th>2</th>\n",
       "      <td>1.68</td>\n",
       "      <td>L</td>\n",
       "    </tr>\n",
       "    <tr>\n",
       "      <th>3</th>\n",
       "      <td>1.70</td>\n",
       "      <td>L</td>\n",
       "    </tr>\n",
       "    <tr>\n",
       "      <th>4</th>\n",
       "      <td>1.73</td>\n",
       "      <td>L</td>\n",
       "    </tr>\n",
       "    <tr>\n",
       "      <th>...</th>\n",
       "      <td>...</td>\n",
       "      <td>...</td>\n",
       "    </tr>\n",
       "    <tr>\n",
       "      <th>11300</th>\n",
       "      <td>284.13</td>\n",
       "      <td>S</td>\n",
       "    </tr>\n",
       "    <tr>\n",
       "      <th>11301</th>\n",
       "      <td>284.15</td>\n",
       "      <td>S</td>\n",
       "    </tr>\n",
       "    <tr>\n",
       "      <th>11302</th>\n",
       "      <td>284.18</td>\n",
       "      <td>S</td>\n",
       "    </tr>\n",
       "    <tr>\n",
       "      <th>11303</th>\n",
       "      <td>284.20</td>\n",
       "      <td>S</td>\n",
       "    </tr>\n",
       "    <tr>\n",
       "      <th>11304</th>\n",
       "      <td>284.23</td>\n",
       "      <td>S</td>\n",
       "    </tr>\n",
       "  </tbody>\n",
       "</table>\n",
       "<p>11305 rows × 2 columns</p>\n",
       "</div>"
      ],
      "text/plain": [
       "         Time Behavior\n",
       "0        1.63        L\n",
       "1        1.65        L\n",
       "2        1.68        L\n",
       "3        1.70        L\n",
       "4        1.73        L\n",
       "...       ...      ...\n",
       "11300  284.13        S\n",
       "11301  284.15        S\n",
       "11302  284.18        S\n",
       "11303  284.20        S\n",
       "11304  284.23        S\n",
       "\n",
       "[11305 rows x 2 columns]"
      ]
     },
     "execution_count": 3,
     "metadata": {},
     "output_type": "execute_result"
    }
   ],
   "source": [
    "df"
   ]
  },
  {
   "cell_type": "markdown",
   "metadata": {},
   "source": [
    "**The framerate of the movie is known as 10fps, so we change the time units from seconds to frames**"
   ]
  },
  {
   "cell_type": "code",
   "execution_count": 4,
   "metadata": {},
   "outputs": [],
   "source": [
    "df['Time'] = df['Time'].apply(lambda x: int(x*10))"
   ]
  },
  {
   "cell_type": "markdown",
   "metadata": {},
   "source": [
    "**Some cells in the CSV were blank, let's just label them as \"nothing\". Do not label them as ``None``!**"
   ]
  },
  {
   "cell_type": "code",
   "execution_count": 5,
   "metadata": {},
   "outputs": [
    {
     "data": {
      "text/plain": [
       "array(['L', 'S', 'O', 'Z', 'R', 'A', 'T', nan], dtype=object)"
      ]
     },
     "execution_count": 5,
     "metadata": {},
     "output_type": "execute_result"
    }
   ],
   "source": [
    "df['Behavior'].unique()"
   ]
  },
  {
   "cell_type": "code",
   "execution_count": 6,
   "metadata": {},
   "outputs": [
    {
     "data": {
      "text/plain": [
       "array(['L', 'S', 'O', 'Z', 'R', 'A', 'T', 'nothing'], dtype=object)"
      ]
     },
     "execution_count": 6,
     "metadata": {},
     "output_type": "execute_result"
    }
   ],
   "source": [
    "df['Behavior'] = df['Behavior'].fillna('nothing')\n",
    "df['Behavior'].unique()"
   ]
  },
  {
   "cell_type": "markdown",
   "metadata": {},
   "source": [
    "**Create a colormap that will be used to illustrate the behavioral periods in the Viewer**\n",
    "\n",
    "**The output MUST be set to ``pyqt``**"
   ]
  },
  {
   "cell_type": "code",
   "execution_count": 7,
   "metadata": {},
   "outputs": [
    {
     "data": {
      "text/plain": [
       "OrderedDict([('L', <PyQt5.QtGui.QColor at 0x7fd0018de438>),\n",
       "             ('S', <PyQt5.QtGui.QColor at 0x7fd0018de4a8>),\n",
       "             ('O', <PyQt5.QtGui.QColor at 0x7fd0018de518>),\n",
       "             ('Z', <PyQt5.QtGui.QColor at 0x7fd0018de588>),\n",
       "             ('R', <PyQt5.QtGui.QColor at 0x7fd0018de5f8>),\n",
       "             ('A', <PyQt5.QtGui.QColor at 0x7fd0018de668>),\n",
       "             ('T', <PyQt5.QtGui.QColor at 0x7fd0018de6d8>),\n",
       "             ('nothing', <PyQt5.QtGui.QColor at 0x7fd0018de748>)])"
      ]
     },
     "execution_count": 7,
     "metadata": {},
     "output_type": "execute_result"
    }
   ],
   "source": [
    "behavior_name_cmap = get_colormap(df['Behavior'].unique(), 'tab10', output='pyqt', alpha=0.6)\n",
    "behavior_name_cmap"
   ]
  },
  {
   "cell_type": "markdown",
   "metadata": {},
   "source": [
    "**Create an empty dataframe with the required columns**"
   ]
  },
  {
   "cell_type": "code",
   "execution_count": 8,
   "metadata": {},
   "outputs": [],
   "source": [
    "stim_mapping_df = pd.DataFrame(columns=['start', 'end', 'name', 'color'])"
   ]
  },
  {
   "cell_type": "markdown",
   "metadata": {},
   "source": [
    "**Fill in the dataframe**"
   ]
  },
  {
   "cell_type": "code",
   "execution_count": 9,
   "metadata": {},
   "outputs": [],
   "source": [
    "for i, r in df.iterrows():\n",
    "    if i == 0:  # the inital behavioral period\n",
    "        start = r['Time']  # the first frame\n",
    "        behavior = r['Behavior']  # the first behavior name\n",
    "        continue\n",
    "    \n",
    "    # when it encounters that the behavioral period has changed, output the previous period\n",
    "    if behavior != r['Behavior']:\n",
    "        behavioral_period = pd.Series(\n",
    "            {\n",
    "                'start': int(start),\n",
    "                'end': int(df.iloc[i-1]['Time']),\n",
    "                'name': behavior,\n",
    "                'color': behavior_name_cmap[behavior]\n",
    "            }\n",
    "        )\n",
    "        # append the previous behavioral period\n",
    "        stim_mapping_df = stim_mapping_df.append(behavioral_period, ignore_index=True)\n",
    "        \n",
    "        # get the start time and name of the new behavioral period\n",
    "        start = r['Time']\n",
    "        behavior = r['Behavior']"
   ]
  },
  {
   "cell_type": "markdown",
   "metadata": {},
   "source": [
    "**View the dataframe which can be fed to the Stimulus Mapping Module of Mesmerize**"
   ]
  },
  {
   "cell_type": "code",
   "execution_count": 10,
   "metadata": {},
   "outputs": [
    {
     "data": {
      "text/html": [
       "<div>\n",
       "<style scoped>\n",
       "    .dataframe tbody tr th:only-of-type {\n",
       "        vertical-align: middle;\n",
       "    }\n",
       "\n",
       "    .dataframe tbody tr th {\n",
       "        vertical-align: top;\n",
       "    }\n",
       "\n",
       "    .dataframe thead th {\n",
       "        text-align: right;\n",
       "    }\n",
       "</style>\n",
       "<table border=\"1\" class=\"dataframe\">\n",
       "  <thead>\n",
       "    <tr style=\"text-align: right;\">\n",
       "      <th></th>\n",
       "      <th>start</th>\n",
       "      <th>end</th>\n",
       "      <th>name</th>\n",
       "      <th>color</th>\n",
       "    </tr>\n",
       "  </thead>\n",
       "  <tbody>\n",
       "    <tr>\n",
       "      <th>0</th>\n",
       "      <td>16</td>\n",
       "      <td>49</td>\n",
       "      <td>L</td>\n",
       "      <td>&lt;PyQt5.QtGui.QColor object at 0x7fd0018de438&gt;</td>\n",
       "    </tr>\n",
       "    <tr>\n",
       "      <th>1</th>\n",
       "      <td>49</td>\n",
       "      <td>76</td>\n",
       "      <td>S</td>\n",
       "      <td>&lt;PyQt5.QtGui.QColor object at 0x7fd0018de4a8&gt;</td>\n",
       "    </tr>\n",
       "    <tr>\n",
       "      <th>2</th>\n",
       "      <td>76</td>\n",
       "      <td>122</td>\n",
       "      <td>L</td>\n",
       "      <td>&lt;PyQt5.QtGui.QColor object at 0x7fd0018de438&gt;</td>\n",
       "    </tr>\n",
       "    <tr>\n",
       "      <th>3</th>\n",
       "      <td>122</td>\n",
       "      <td>179</td>\n",
       "      <td>O</td>\n",
       "      <td>&lt;PyQt5.QtGui.QColor object at 0x7fd0018de518&gt;</td>\n",
       "    </tr>\n",
       "    <tr>\n",
       "      <th>4</th>\n",
       "      <td>179</td>\n",
       "      <td>199</td>\n",
       "      <td>S</td>\n",
       "      <td>&lt;PyQt5.QtGui.QColor object at 0x7fd0018de4a8&gt;</td>\n",
       "    </tr>\n",
       "    <tr>\n",
       "      <th>...</th>\n",
       "      <td>...</td>\n",
       "      <td>...</td>\n",
       "      <td>...</td>\n",
       "      <td>...</td>\n",
       "    </tr>\n",
       "    <tr>\n",
       "      <th>149</th>\n",
       "      <td>2725</td>\n",
       "      <td>2730</td>\n",
       "      <td>A</td>\n",
       "      <td>&lt;PyQt5.QtGui.QColor object at 0x7fd0018de668&gt;</td>\n",
       "    </tr>\n",
       "    <tr>\n",
       "      <th>150</th>\n",
       "      <td>2730</td>\n",
       "      <td>2740</td>\n",
       "      <td>T</td>\n",
       "      <td>&lt;PyQt5.QtGui.QColor object at 0x7fd0018de6d8&gt;</td>\n",
       "    </tr>\n",
       "    <tr>\n",
       "      <th>151</th>\n",
       "      <td>2740</td>\n",
       "      <td>2761</td>\n",
       "      <td>S</td>\n",
       "      <td>&lt;PyQt5.QtGui.QColor object at 0x7fd0018de4a8&gt;</td>\n",
       "    </tr>\n",
       "    <tr>\n",
       "      <th>152</th>\n",
       "      <td>2761</td>\n",
       "      <td>2794</td>\n",
       "      <td>L</td>\n",
       "      <td>&lt;PyQt5.QtGui.QColor object at 0x7fd0018de438&gt;</td>\n",
       "    </tr>\n",
       "    <tr>\n",
       "      <th>153</th>\n",
       "      <td>2795</td>\n",
       "      <td>2820</td>\n",
       "      <td>R</td>\n",
       "      <td>&lt;PyQt5.QtGui.QColor object at 0x7fd0018de5f8&gt;</td>\n",
       "    </tr>\n",
       "  </tbody>\n",
       "</table>\n",
       "<p>154 rows × 4 columns</p>\n",
       "</div>"
      ],
      "text/plain": [
       "    start   end name                                          color\n",
       "0      16    49    L  <PyQt5.QtGui.QColor object at 0x7fd0018de438>\n",
       "1      49    76    S  <PyQt5.QtGui.QColor object at 0x7fd0018de4a8>\n",
       "2      76   122    L  <PyQt5.QtGui.QColor object at 0x7fd0018de438>\n",
       "3     122   179    O  <PyQt5.QtGui.QColor object at 0x7fd0018de518>\n",
       "4     179   199    S  <PyQt5.QtGui.QColor object at 0x7fd0018de4a8>\n",
       "..    ...   ...  ...                                            ...\n",
       "149  2725  2730    A  <PyQt5.QtGui.QColor object at 0x7fd0018de668>\n",
       "150  2730  2740    T  <PyQt5.QtGui.QColor object at 0x7fd0018de6d8>\n",
       "151  2740  2761    S  <PyQt5.QtGui.QColor object at 0x7fd0018de4a8>\n",
       "152  2761  2794    L  <PyQt5.QtGui.QColor object at 0x7fd0018de438>\n",
       "153  2795  2820    R  <PyQt5.QtGui.QColor object at 0x7fd0018de5f8>\n",
       "\n",
       "[154 rows x 4 columns]"
      ]
     },
     "execution_count": 10,
     "metadata": {},
     "output_type": "execute_result"
    }
   ],
   "source": [
    "stim_mapping_df"
   ]
  }
 ],
 "metadata": {
  "kernelspec": {
   "display_name": "Python 3",
   "language": "python",
   "name": "python3"
  },
  "language_info": {
   "codemirror_mode": {
    "name": "ipython",
    "version": 3
   },
   "file_extension": ".py",
   "mimetype": "text/x-python",
   "name": "python",
   "nbconvert_exporter": "python",
   "pygments_lexer": "ipython3",
   "version": "3.6.12"
  }
 },
 "nbformat": 4,
 "nbformat_minor": 4
}
